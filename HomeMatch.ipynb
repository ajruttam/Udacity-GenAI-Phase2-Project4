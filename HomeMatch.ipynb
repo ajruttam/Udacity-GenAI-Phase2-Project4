{
 "cells": [
  {
   "cell_type": "markdown",
   "id": "a108af04",
   "metadata": {},
   "source": [
    "This is a starter notebook for the project, you'll have to import the libraries you'll need, you can find a list of the ones available in this workspace in the requirements.txt file in this workspace. "
   ]
  },
  {
   "cell_type": "code",
   "execution_count": 1,
   "id": "6554fd4c",
   "metadata": {},
   "outputs": [],
   "source": [
    "import os\n",
    "\n",
    "os.environ[\"OPENAI_API_KEY\"] = \"YOUR API KEY\"\n",
    "os.environ[\"OPENAI_API_BASE\"] = \"https://openai.vocareum.com/v1\""
   ]
  },
  {
   "cell_type": "markdown",
   "id": "c1e7ba49",
   "metadata": {},
   "source": [
    "# Step 1: Setting Up the Python Application"
   ]
  },
  {
   "cell_type": "markdown",
   "id": "367baf14",
   "metadata": {},
   "source": [
    "**Initialize a Python Project**: Create a new Python project, setting up a virtual environment and installing necessary packages like LangChain, a suitable LLM library (e.g., OpenAI's GPT), and a vector database package compatible with Python (e.g., ChromaDB or LanceDB)."
   ]
  },
  {
   "cell_type": "code",
   "execution_count": 2,
   "id": "63900e11",
   "metadata": {},
   "outputs": [
    {
     "name": "stderr",
     "output_type": "stream",
     "text": [
      "/opt/conda/lib/python3.10/site-packages/langchain/llms/openai.py:202: UserWarning: You are trying to use a chat model. This way of initializing it is no longer supported. Instead, please use: `from langchain.chat_models import ChatOpenAI`\n",
      "  warnings.warn(\n",
      "/opt/conda/lib/python3.10/site-packages/langchain/llms/openai.py:790: UserWarning: You are trying to use a chat model. This way of initializing it is no longer supported. Instead, please use: `from langchain.chat_models import ChatOpenAI`\n",
      "  warnings.warn(\n"
     ]
    }
   ],
   "source": [
    "from langchain.llms import OpenAI\n",
    "model_name = 'gpt-3.5-turbo'\n",
    "llm = OpenAI(model_name=model_name, temperature=0)"
   ]
  },
  {
   "cell_type": "markdown",
   "id": "d287e081",
   "metadata": {},
   "source": [
    "# Step 2: Generating Real Estate Listings"
   ]
  },
  {
   "cell_type": "markdown",
   "id": "5f9b844c",
   "metadata": {},
   "source": [
    "Generate real estate listings using a Large Language Model. Generate at least 10 listings This can involve creating prompts for the LLM to produce descriptions of various properties."
   ]
  },
  {
   "cell_type": "code",
   "execution_count": 3,
   "id": "3fc6b64f",
   "metadata": {},
   "outputs": [],
   "source": [
    "INSTRUCTION = \"Generate 13 real estate listings.\"\n",
    "Listing1 = \\\n",
    "\"\"\"\n",
    "Neighborhood: Green Oaks\n",
    "Price: $800,000\n",
    "Bedrooms: 3\n",
    "Bathrooms: 2\n",
    "House Size: 2,000 sqft\n",
    "\n",
    "Description: Welcome to this eco-friendly oasis nestled in the heart of Green Oaks. This charming 3-bedroom, 2-bathroom home boasts energy-efficient features such as solar panels and a well-insulated structure. Natural light floods the living spaces, highlighting the beautiful hardwood floors and eco-conscious finishes. The open-concept kitchen and dining area lead to a spacious backyard with a vegetable garden, perfect for the eco-conscious family. Embrace sustainable living without compromising on style in this Green Oaks gem.\n",
    "\n",
    "Neighborhood Description: Green Oaks is a close-knit, environmentally-conscious community with access to organic grocery stores, community gardens, and bike paths. Take a stroll through the nearby Green Oaks Park or grab a cup of coffee at the cozy Green Bean Cafe. With easy access to public transportation and bike lanes, commuting is a breeze.\n",
    "\"\"\""
   ]
  },
  {
   "cell_type": "code",
   "execution_count": 4,
   "id": "4733453a",
   "metadata": {},
   "outputs": [],
   "source": [
    "from langchain.output_parsers import PydanticOutputParser\n",
    "from pydantic import BaseModel, Field, NonNegativeInt\n",
    "from typing import List\n",
    "\n",
    "class RealEstateListing(BaseModel):\n",
    "    neighborhood: str = Field(description=\"Name of the neighborhood\")\n",
    "    price: NonNegativeInt = Field(description=\"Price of the property in USD\")\n",
    "    bedrooms: NonNegativeInt = Field(description=\"Number of bedrooms in the property\")\n",
    "    bathrooms: NonNegativeInt = Field(description=\"Number of bathrooms in the property\")\n",
    "    house_size: NonNegativeInt = Field(description=\"Size of the property in square feet\")\n",
    "    description: str = Field(description=\"Description of the property.\")   \n",
    "    neighborhood_description: str = Field(description=\"Description of the neighborhood.\")  \n",
    "\n",
    "class ListingCollection(BaseModel):\n",
    "    listing: List[RealEstateListing] = Field(description=\"List of available real estate\")\n",
    "        \n",
    "parser = PydanticOutputParser(pydantic_object=ListingCollection)"
   ]
  },
  {
   "cell_type": "markdown",
   "id": "3bd44679",
   "metadata": {},
   "source": [
    "Prompt Creation"
   ]
  },
  {
   "cell_type": "code",
   "execution_count": 5,
   "id": "c47bce64",
   "metadata": {},
   "outputs": [
    {
     "name": "stdout",
     "output_type": "stream",
     "text": [
      "Generate 13 real estate listings.\n",
      "\n",
      "Neighborhood: Green Oaks\n",
      "Price: $800,000\n",
      "Bedrooms: 3\n",
      "Bathrooms: 2\n",
      "House Size: 2,000 sqft\n",
      "\n",
      "Description: Welcome to this eco-friendly oasis nestled in the heart of Green Oaks. This charming 3-bedroom, 2-bathroom home boasts energy-efficient features such as solar panels and a well-insulated structure. Natural light floods the living spaces, highlighting the beautiful hardwood floors and eco-conscious finishes. The open-concept kitchen and dining area lead to a spacious backyard with a vegetable garden, perfect for the eco-conscious family. Embrace sustainable living without compromising on style in this Green Oaks gem.\n",
      "\n",
      "Neighborhood Description: Green Oaks is a close-knit, environmentally-conscious community with access to organic grocery stores, community gardens, and bike paths. Take a stroll through the nearby Green Oaks Park or grab a cup of coffee at the cozy Green Bean Cafe. With easy access to public transportation and bike lanes, commuting is a breeze.\n",
      "\n",
      "The output should be formatted as a JSON instance that conforms to the JSON schema below.\n",
      "\n",
      "As an example, for the schema {\"properties\": {\"foo\": {\"title\": \"Foo\", \"description\": \"a list of strings\", \"type\": \"array\", \"items\": {\"type\": \"string\"}}}, \"required\": [\"foo\"]}\n",
      "the object {\"foo\": [\"bar\", \"baz\"]} is a well-formatted instance of the schema. The object {\"properties\": {\"foo\": [\"bar\", \"baz\"]}} is not well-formatted.\n",
      "\n",
      "Here is the output schema:\n",
      "```\n",
      "{\"properties\": {\"listing\": {\"title\": \"Listing\", \"description\": \"List of available real estate\", \"type\": \"array\", \"items\": {\"$ref\": \"#/definitions/RealEstateListing\"}}}, \"required\": [\"listing\"], \"definitions\": {\"RealEstateListing\": {\"title\": \"RealEstateListing\", \"type\": \"object\", \"properties\": {\"neighborhood\": {\"title\": \"Neighborhood\", \"description\": \"Name of the neighborhood\", \"type\": \"string\"}, \"price\": {\"title\": \"Price\", \"description\": \"Price of the property in USD\", \"minimum\": 0, \"type\": \"integer\"}, \"bedrooms\": {\"title\": \"Bedrooms\", \"description\": \"Number of bedrooms in the property\", \"minimum\": 0, \"type\": \"integer\"}, \"bathrooms\": {\"title\": \"Bathrooms\", \"description\": \"Number of bathrooms in the property\", \"minimum\": 0, \"type\": \"integer\"}, \"house_size\": {\"title\": \"House Size\", \"description\": \"Size of the property in square feet\", \"minimum\": 0, \"type\": \"integer\"}, \"description\": {\"title\": \"Description\", \"description\": \"Description of the property.\", \"type\": \"string\"}, \"neighborhood_description\": {\"title\": \"Neighborhood Description\", \"description\": \"Description of the neighborhood.\", \"type\": \"string\"}}, \"required\": [\"neighborhood\", \"price\", \"bedrooms\", \"bathrooms\", \"house_size\", \"description\", \"neighborhood_description\"]}}}\n",
      "```\n",
      "\n"
     ]
    }
   ],
   "source": [
    "from langchain.prompts import PromptTemplate\n",
    "\n",
    "prompt = PromptTemplate(\n",
    "    template=\"{instruction}\\n{sample}\\n{format_instructions}\\n\",\n",
    "    input_variables=[\"instruction\", \"sample\"],\n",
    "    partial_variables={\"format_instructions\": parser.get_format_instructions},\n",
    ")\n",
    "query = prompt.format(instruction = INSTRUCTION, sample = Listing1)\n",
    "print(query)"
   ]
  },
  {
   "cell_type": "code",
   "execution_count": 6,
   "id": "1ec55d84",
   "metadata": {},
   "outputs": [],
   "source": [
    "output = llm(query)"
   ]
  },
  {
   "cell_type": "code",
   "execution_count": 7,
   "id": "e4bad941",
   "metadata": {},
   "outputs": [
    {
     "data": {
      "text/plain": [
       "'{\\n  \"listing\": [\\n    {\\n      \"neighborhood\": \"Green Oaks\",\\n      \"price\": 800000,\\n      \"bedrooms\": 3,\\n      \"bathrooms\": 2,\\n      \"house_size\": 2000,\\n      \"description\": \"Welcome to this eco-friendly oasis nestled in the heart of Green Oaks. This charming 3-bedroom, 2-bathroom home boasts energy-efficient features such as solar panels and a well-insulated structure. Natural light floods the living spaces, highlighting the beautiful hardwood floors and eco-conscious finishes. The open-concept kitchen and dining area lead to a spacious backyard with a vegetable garden, perfect for the eco-conscious family. Embrace sustainable living without compromising on style in this Green Oaks gem.\",\\n      \"neighborhood_description\": \"Green Oaks is a close-knit, environmentally-conscious community with access to organic grocery stores, community gardens, and bike paths. Take a stroll through the nearby Green Oaks Park or grab a cup of coffee at the cozy Green Bean Cafe. With easy access to public transportation and bike lanes, commuting is a breeze.\"\\n    },\\n    {\\n      \"neighborhood\": \"Sunnyvale\",\\n      \"price\": 950000,\\n      \"bedrooms\": 4,\\n      \"bathrooms\": 3,\\n      \"house_size\": 2500,\\n      \"description\": \"Beautiful 4-bedroom, 3-bathroom home in the desirable neighborhood of Sunnyvale. This spacious property features a modern kitchen, luxurious bathrooms, and a large backyard perfect for entertaining. Enjoy the sunny California weather in this stunning Sunnyvale home.\",\\n      \"neighborhood_description\": \"Sunnyvale is known for its top-rated schools, family-friendly community, and proximity to tech companies. Explore the nearby parks, restaurants, and shopping centers in this vibrant neighborhood.\"\\n    },\\n    {\\n      \"neighborhood\": \"Lakeview\",\\n      \"price\": 700000,\\n      \"bedrooms\": 2,\\n      \"bathrooms\": 1,\\n      \"house_size\": 1500,\\n      \"description\": \"Cozy 2-bedroom, 1-bathroom home in the peaceful neighborhood of Lakeview. This charming property features a fireplace, hardwood floors, and a private backyard. Perfect for first-time homebuyers or those looking to downsize.\",\\n      \"neighborhood_description\": \"Lakeview offers a tranquil setting with scenic views of the lake and easy access to hiking trails. Enjoy the serenity of nature while still being close to downtown amenities.\"\\n    },\\n    {\\n      \"neighborhood\": \"Downtown\",\\n      \"price\": 1200000,\\n      \"bedrooms\": 5,\\n      \"bathrooms\": 4,\\n      \"house_size\": 3500,\\n      \"description\": \"Luxurious 5-bedroom, 4-bathroom home in the heart of Downtown. This elegant property features high-end finishes, a gourmet kitchen, and a rooftop terrace with city views. Live in style in this sophisticated Downtown residence.\",\\n      \"neighborhood_description\": \"Downtown is a bustling urban neighborhood with a vibrant nightlife, trendy restaurants, and cultural attractions. Experience city living at its finest in this prime location.\"\\n    },\\n    {\\n      \"neighborhood\": \"Hillside\",\\n      \"price\": 850000,\\n      \"bedrooms\": 3,\\n      \"bathrooms\": 2,\\n      \"house_size\": 2200,\\n      \"description\": \"Inviting 3-bedroom, 2-bathroom home in the scenic neighborhood of Hillside. This charming property features a wrap-around porch, vaulted ceilings, and a cozy fireplace. Enjoy the peaceful surroundings of Hillside in this lovely home.\",\\n      \"neighborhood_description\": \"Hillside offers stunning views of the mountains, hiking trails, and a sense of tranquility. Escape the hustle and bustle of the city in this serene neighborhood.\"\\n    },\\n    {\\n      \"neighborhood\": \"Waterfront\",\\n      \"price\": 1500000,\\n      \"bedrooms\": 4,\\n      \"bathrooms\": 3,\\n      \"house_size\": 2800,\\n      \"description\": \"Stunning 4-bedroom, 3-bathroom waterfront home with panoramic views of the bay. This modern property features floor-to-ceiling windows, a gourmet kitchen, and a private dock. Live the waterfront lifestyle in this luxurious home.\",\\n      \"neighborhood_description\": \"Waterfront is a prestigious neighborhood known for its waterfront properties, marinas, and upscale dining options. Enjoy boating, fishing, and waterfront living in this exclusive community.\"\\n    },\\n    {\\n      \"neighborhood\": \"Mountain View\",\\n      \"price\": 1000000,\\n      \"bedrooms\": 3,\\n      \"bathrooms\": 2,\\n      \"house_size\": 2000,\\n      \"description\": \"Charming 3-bedroom, 2-bathroom home in the sought-after neighborhood of Mountain View. This cozy property features a spacious backyard, updated kitchen, and hardwood floors. Experience the beauty of Mountain View in this lovely home.\",\\n      \"neighborhood_description\": \"Mountain View is a picturesque neighborhood with tree-lined streets, parks, and a strong sense of community. Explore the nearby hiking trails, farmers\\' markets, and tech companies in this vibrant neighborhood.\"\\n    },\\n    {\\n      \"neighborhood\": \"Oceanfront\",\\n      \"price\": 2000000,\\n      \"bedrooms\": 5,\\n      \"bathrooms\": 4,\\n      \"house_size\": 4000,\\n      \"description\": \"Magnificent 5-bedroom, 4-bathroom oceanfront estate with breathtaking views of the Pacific Ocean. This luxurious property features a gourmet kitchen, infinity pool, and private beach access. Live the ultimate coastal lifestyle in this exclusive Oceanfront home.\",\\n      \"neighborhood_description\": \"Oceanfront is a prestigious neighborhood known for its multimillion-dollar estates, private beaches, and stunning ocean views. Experience luxury living at its finest in this coveted coastal community.\"\\n    },\\n    {\\n      \"neighborhood\": \"Historic District\",\\n      \"price\": 750000,\\n      \"bedrooms\": 4,\\n      \"bathrooms\": 3,\\n      \"house_size\": 2300,\\n      \"description\": \"Historic 4-bedroom, 3-bathroom home in the charming Historic District. This restored property features original architectural details, a grand staircase, and a wrap-around porch. Step back in time in this elegant Historic District residence.\",\\n      \"neighborhood_description\": \"Historic District is a quaint neighborhood with tree-lined streets, historic homes, and a sense of nostalgia. Explore the historic landmarks, boutique shops, and local cafes in this unique neighborhood.\"\\n    },\\n    {\\n      \"neighborhood\": \"Riverside\",\\n      \"price\": 900000,\\n      \"bedrooms\": 3,\\n      \"bathrooms\": 2,\\n      \"house_size\": 2100,\\n      \"description\": \"Riverside 3-bedroom, 2-bathroom home with a private backyard overlooking the river. This charming property features a sunroom, hardwood floors, and a cozy fireplace. Enjoy the peaceful sounds of the river in this serene Riverside home.\",\\n      \"neighborhood_description\": \"Riverside offers a tranquil setting with scenic views of the river, walking trails, and a sense of calm. Escape the city hustle in this peaceful riverside neighborhood.\"\\n    },\\n    {\\n      \"neighborhood\": \"Garden District\",\\n      \"price\": 850000,\\n      \"bedrooms\": 4,\\n      \"bathrooms\": 3,\\n      \"house_size\": 2400,\\n      \"description\": \"Spacious 4-bedroom, 3-bathroom home in the lush Garden District. This beautiful property features a gourmet kitchen, formal dining room, and a landscaped backyard. Embrace the beauty of nature in this Garden District oasis.\",\\n      \"neighborhood_description\": \"Garden District is known for its tree-lined streets, botanical gardens, and historic homes. Explore the nearby parks, cafes, and farmers\\' markets in this green neighborhood.\"\\n    },\\n    {\\n      \"neighborhood\": \"Downtown Loft\",\\n      \"price\": 700000,\\n      \"bedrooms\": 2,\\n      \"bathrooms\": 2,\\n      \"house_size\": 1800,\\n      \"description\": \"Modern 2-bedroom, 2-bathroom loft in the heart of Downtown. This stylish property features exposed brick walls, high ceilings, and industrial accents. Live in the heart of the city in this chic Downtown loft.\",\\n      \"neighborhood_description\": \"Downtown is a vibrant urban neighborhood with trendy restaurants, art galleries, and cultural events. Experience city living at its best in this Downtown loft.\"\\n    },\\n    {\\n      \"neighborhood\": \"Lakefront Retreat\",\\n      \"price\": 1200000,\\n      \"bedrooms\": 3,\\n      \"bathrooms\": 3,\\n      \"house_size\": 2600,\\n      \"description\": \"Tranquil 3-bedroom, 3-bathroom lakefront retreat with stunning views of the lake. This peaceful property features a wrap-around deck, vaulted ceilings, and a cozy fireplace. Escape to the lakefront in this serene retreat.\",\\n      \"neighborhood_description\": \"Lakefront is a serene neighborhood with scenic views of the lake, walking trails, and a sense of tranquility. Enjoy the beauty of nature in this peaceful lakefront community.\"\\n    }\\n  ]\\n}'"
      ]
     },
     "execution_count": 7,
     "metadata": {},
     "output_type": "execute_result"
    }
   ],
   "source": [
    "output"
   ]
  },
  {
   "cell_type": "code",
   "execution_count": 8,
   "id": "52baf0b6",
   "metadata": {},
   "outputs": [
    {
     "data": {
      "text/plain": [
       "ListingCollection(listing=[RealEstateListing(neighborhood='Green Oaks', price=800000, bedrooms=3, bathrooms=2, house_size=2000, description='Welcome to this eco-friendly oasis nestled in the heart of Green Oaks. This charming 3-bedroom, 2-bathroom home boasts energy-efficient features such as solar panels and a well-insulated structure. Natural light floods the living spaces, highlighting the beautiful hardwood floors and eco-conscious finishes. The open-concept kitchen and dining area lead to a spacious backyard with a vegetable garden, perfect for the eco-conscious family. Embrace sustainable living without compromising on style in this Green Oaks gem.', neighborhood_description='Green Oaks is a close-knit, environmentally-conscious community with access to organic grocery stores, community gardens, and bike paths. Take a stroll through the nearby Green Oaks Park or grab a cup of coffee at the cozy Green Bean Cafe. With easy access to public transportation and bike lanes, commuting is a breeze.'), RealEstateListing(neighborhood='Sunnyvale', price=950000, bedrooms=4, bathrooms=3, house_size=2500, description='Beautiful 4-bedroom, 3-bathroom home in the desirable neighborhood of Sunnyvale. This spacious property features a modern kitchen, luxurious bathrooms, and a large backyard perfect for entertaining. Enjoy the sunny California weather in this stunning Sunnyvale home.', neighborhood_description='Sunnyvale is known for its top-rated schools, family-friendly community, and proximity to tech companies. Explore the nearby parks, restaurants, and shopping centers in this vibrant neighborhood.'), RealEstateListing(neighborhood='Lakeview', price=700000, bedrooms=2, bathrooms=1, house_size=1500, description='Cozy 2-bedroom, 1-bathroom home in the peaceful neighborhood of Lakeview. This charming property features a fireplace, hardwood floors, and a private backyard. Perfect for first-time homebuyers or those looking to downsize.', neighborhood_description='Lakeview offers a tranquil setting with scenic views of the lake and easy access to hiking trails. Enjoy the serenity of nature while still being close to downtown amenities.'), RealEstateListing(neighborhood='Downtown', price=1200000, bedrooms=5, bathrooms=4, house_size=3500, description='Luxurious 5-bedroom, 4-bathroom home in the heart of Downtown. This elegant property features high-end finishes, a gourmet kitchen, and a rooftop terrace with city views. Live in style in this sophisticated Downtown residence.', neighborhood_description='Downtown is a bustling urban neighborhood with a vibrant nightlife, trendy restaurants, and cultural attractions. Experience city living at its finest in this prime location.'), RealEstateListing(neighborhood='Hillside', price=850000, bedrooms=3, bathrooms=2, house_size=2200, description='Inviting 3-bedroom, 2-bathroom home in the scenic neighborhood of Hillside. This charming property features a wrap-around porch, vaulted ceilings, and a cozy fireplace. Enjoy the peaceful surroundings of Hillside in this lovely home.', neighborhood_description='Hillside offers stunning views of the mountains, hiking trails, and a sense of tranquility. Escape the hustle and bustle of the city in this serene neighborhood.'), RealEstateListing(neighborhood='Waterfront', price=1500000, bedrooms=4, bathrooms=3, house_size=2800, description='Stunning 4-bedroom, 3-bathroom waterfront home with panoramic views of the bay. This modern property features floor-to-ceiling windows, a gourmet kitchen, and a private dock. Live the waterfront lifestyle in this luxurious home.', neighborhood_description='Waterfront is a prestigious neighborhood known for its waterfront properties, marinas, and upscale dining options. Enjoy boating, fishing, and waterfront living in this exclusive community.'), RealEstateListing(neighborhood='Mountain View', price=1000000, bedrooms=3, bathrooms=2, house_size=2000, description='Charming 3-bedroom, 2-bathroom home in the sought-after neighborhood of Mountain View. This cozy property features a spacious backyard, updated kitchen, and hardwood floors. Experience the beauty of Mountain View in this lovely home.', neighborhood_description=\"Mountain View is a picturesque neighborhood with tree-lined streets, parks, and a strong sense of community. Explore the nearby hiking trails, farmers' markets, and tech companies in this vibrant neighborhood.\"), RealEstateListing(neighborhood='Oceanfront', price=2000000, bedrooms=5, bathrooms=4, house_size=4000, description='Magnificent 5-bedroom, 4-bathroom oceanfront estate with breathtaking views of the Pacific Ocean. This luxurious property features a gourmet kitchen, infinity pool, and private beach access. Live the ultimate coastal lifestyle in this exclusive Oceanfront home.', neighborhood_description='Oceanfront is a prestigious neighborhood known for its multimillion-dollar estates, private beaches, and stunning ocean views. Experience luxury living at its finest in this coveted coastal community.'), RealEstateListing(neighborhood='Historic District', price=750000, bedrooms=4, bathrooms=3, house_size=2300, description='Historic 4-bedroom, 3-bathroom home in the charming Historic District. This restored property features original architectural details, a grand staircase, and a wrap-around porch. Step back in time in this elegant Historic District residence.', neighborhood_description='Historic District is a quaint neighborhood with tree-lined streets, historic homes, and a sense of nostalgia. Explore the historic landmarks, boutique shops, and local cafes in this unique neighborhood.'), RealEstateListing(neighborhood='Riverside', price=900000, bedrooms=3, bathrooms=2, house_size=2100, description='Riverside 3-bedroom, 2-bathroom home with a private backyard overlooking the river. This charming property features a sunroom, hardwood floors, and a cozy fireplace. Enjoy the peaceful sounds of the river in this serene Riverside home.', neighborhood_description='Riverside offers a tranquil setting with scenic views of the river, walking trails, and a sense of calm. Escape the city hustle in this peaceful riverside neighborhood.'), RealEstateListing(neighborhood='Garden District', price=850000, bedrooms=4, bathrooms=3, house_size=2400, description='Spacious 4-bedroom, 3-bathroom home in the lush Garden District. This beautiful property features a gourmet kitchen, formal dining room, and a landscaped backyard. Embrace the beauty of nature in this Garden District oasis.', neighborhood_description=\"Garden District is known for its tree-lined streets, botanical gardens, and historic homes. Explore the nearby parks, cafes, and farmers' markets in this green neighborhood.\"), RealEstateListing(neighborhood='Downtown Loft', price=700000, bedrooms=2, bathrooms=2, house_size=1800, description='Modern 2-bedroom, 2-bathroom loft in the heart of Downtown. This stylish property features exposed brick walls, high ceilings, and industrial accents. Live in the heart of the city in this chic Downtown loft.', neighborhood_description='Downtown is a vibrant urban neighborhood with trendy restaurants, art galleries, and cultural events. Experience city living at its best in this Downtown loft.'), RealEstateListing(neighborhood='Lakefront Retreat', price=1200000, bedrooms=3, bathrooms=3, house_size=2600, description='Tranquil 3-bedroom, 3-bathroom lakefront retreat with stunning views of the lake. This peaceful property features a wrap-around deck, vaulted ceilings, and a cozy fireplace. Escape to the lakefront in this serene retreat.', neighborhood_description='Lakefront is a serene neighborhood with scenic views of the lake, walking trails, and a sense of tranquility. Enjoy the beauty of nature in this peaceful lakefront community.')])"
      ]
     },
     "execution_count": 8,
     "metadata": {},
     "output_type": "execute_result"
    }
   ],
   "source": [
    "listings = parser.parse(output)\n",
    "listings"
   ]
  },
  {
   "cell_type": "markdown",
   "id": "61a54ca6",
   "metadata": {},
   "source": [
    "Converting to DataFrame"
   ]
  },
  {
   "cell_type": "code",
   "execution_count": 10,
   "id": "0e6e9793",
   "metadata": {},
   "outputs": [
    {
     "name": "stdout",
     "output_type": "stream",
     "text": [
      "Defaulting to user installation because normal site-packages is not writeable\n",
      "Collecting pandas\n",
      "  Downloading pandas-2.3.0-cp310-cp310-manylinux_2_17_x86_64.manylinux2014_x86_64.whl (12.3 MB)\n",
      "\u001b[2K     \u001b[90m━━━━━━━━━━━━━━━━━━━━━━━━━━━━━━━━━━━━━━━━\u001b[0m \u001b[32m12.3/12.3 MB\u001b[0m \u001b[31m68.0 MB/s\u001b[0m eta \u001b[36m0:00:00\u001b[0m00:01\u001b[0m00:01\u001b[0m\n",
      "\u001b[?25hRequirement already satisfied: numpy>=1.22.4 in /opt/conda/lib/python3.10/site-packages (from pandas) (1.24.3)\n",
      "Requirement already satisfied: pytz>=2020.1 in /opt/conda/lib/python3.10/site-packages (from pandas) (2022.7)\n",
      "Requirement already satisfied: python-dateutil>=2.8.2 in /opt/conda/lib/python3.10/site-packages (from pandas) (2.9.0.post0)\n",
      "Collecting tzdata>=2022.7\n",
      "  Downloading tzdata-2025.2-py2.py3-none-any.whl (347 kB)\n",
      "\u001b[2K     \u001b[90m━━━━━━━━━━━━━━━━━━━━━━━━━━━━━━━━━━━━━━\u001b[0m \u001b[32m347.8/347.8 kB\u001b[0m \u001b[31m37.8 MB/s\u001b[0m eta \u001b[36m0:00:00\u001b[0m\n",
      "\u001b[?25hRequirement already satisfied: six>=1.5 in /opt/conda/lib/python3.10/site-packages (from python-dateutil>=2.8.2->pandas) (1.16.0)\n",
      "Installing collected packages: tzdata, pandas\n",
      "Successfully installed pandas-2.3.0 tzdata-2025.2\n"
     ]
    }
   ],
   "source": [
    "!pip install pandas"
   ]
  },
  {
   "cell_type": "code",
   "execution_count": 10,
   "id": "cf431c5d",
   "metadata": {},
   "outputs": [],
   "source": [
    "import pandas as pd\n",
    "df = pd.DataFrame([listing.dict() for listing in listings.listing])"
   ]
  },
  {
   "cell_type": "code",
   "execution_count": 11,
   "id": "6cb7a02b",
   "metadata": {},
   "outputs": [
    {
     "data": {
      "text/html": [
       "<div>\n",
       "<style scoped>\n",
       "    .dataframe tbody tr th:only-of-type {\n",
       "        vertical-align: middle;\n",
       "    }\n",
       "\n",
       "    .dataframe tbody tr th {\n",
       "        vertical-align: top;\n",
       "    }\n",
       "\n",
       "    .dataframe thead th {\n",
       "        text-align: right;\n",
       "    }\n",
       "</style>\n",
       "<table border=\"1\" class=\"dataframe\">\n",
       "  <thead>\n",
       "    <tr style=\"text-align: right;\">\n",
       "      <th></th>\n",
       "      <th>neighborhood</th>\n",
       "      <th>price</th>\n",
       "      <th>bedrooms</th>\n",
       "      <th>bathrooms</th>\n",
       "      <th>house_size</th>\n",
       "      <th>description</th>\n",
       "      <th>neighborhood_description</th>\n",
       "    </tr>\n",
       "  </thead>\n",
       "  <tbody>\n",
       "    <tr>\n",
       "      <th>0</th>\n",
       "      <td>Green Oaks</td>\n",
       "      <td>800000</td>\n",
       "      <td>3</td>\n",
       "      <td>2</td>\n",
       "      <td>2000</td>\n",
       "      <td>Welcome to this eco-friendly oasis nestled in ...</td>\n",
       "      <td>Green Oaks is a close-knit, environmentally-co...</td>\n",
       "    </tr>\n",
       "    <tr>\n",
       "      <th>1</th>\n",
       "      <td>Sunnyvale</td>\n",
       "      <td>950000</td>\n",
       "      <td>4</td>\n",
       "      <td>3</td>\n",
       "      <td>2500</td>\n",
       "      <td>Beautiful 4-bedroom, 3-bathroom home in the de...</td>\n",
       "      <td>Sunnyvale is known for its top-rated schools, ...</td>\n",
       "    </tr>\n",
       "    <tr>\n",
       "      <th>2</th>\n",
       "      <td>Lakeview</td>\n",
       "      <td>700000</td>\n",
       "      <td>2</td>\n",
       "      <td>1</td>\n",
       "      <td>1500</td>\n",
       "      <td>Cozy 2-bedroom, 1-bathroom home in the peacefu...</td>\n",
       "      <td>Lakeview offers a tranquil setting with scenic...</td>\n",
       "    </tr>\n",
       "    <tr>\n",
       "      <th>3</th>\n",
       "      <td>Downtown</td>\n",
       "      <td>1200000</td>\n",
       "      <td>5</td>\n",
       "      <td>4</td>\n",
       "      <td>3500</td>\n",
       "      <td>Luxurious 5-bedroom, 4-bathroom home in the he...</td>\n",
       "      <td>Downtown is a bustling urban neighborhood with...</td>\n",
       "    </tr>\n",
       "    <tr>\n",
       "      <th>4</th>\n",
       "      <td>Hillside</td>\n",
       "      <td>850000</td>\n",
       "      <td>3</td>\n",
       "      <td>2</td>\n",
       "      <td>2200</td>\n",
       "      <td>Inviting 3-bedroom, 2-bathroom home in the sce...</td>\n",
       "      <td>Hillside offers stunning views of the mountain...</td>\n",
       "    </tr>\n",
       "    <tr>\n",
       "      <th>5</th>\n",
       "      <td>Waterfront</td>\n",
       "      <td>1500000</td>\n",
       "      <td>4</td>\n",
       "      <td>3</td>\n",
       "      <td>2800</td>\n",
       "      <td>Stunning 4-bedroom, 3-bathroom waterfront home...</td>\n",
       "      <td>Waterfront is a prestigious neighborhood known...</td>\n",
       "    </tr>\n",
       "    <tr>\n",
       "      <th>6</th>\n",
       "      <td>Mountain View</td>\n",
       "      <td>1000000</td>\n",
       "      <td>3</td>\n",
       "      <td>2</td>\n",
       "      <td>2000</td>\n",
       "      <td>Charming 3-bedroom, 2-bathroom home in the sou...</td>\n",
       "      <td>Mountain View is a picturesque neighborhood wi...</td>\n",
       "    </tr>\n",
       "    <tr>\n",
       "      <th>7</th>\n",
       "      <td>Oceanfront</td>\n",
       "      <td>2000000</td>\n",
       "      <td>5</td>\n",
       "      <td>4</td>\n",
       "      <td>4000</td>\n",
       "      <td>Magnificent 5-bedroom, 4-bathroom oceanfront e...</td>\n",
       "      <td>Oceanfront is a prestigious neighborhood known...</td>\n",
       "    </tr>\n",
       "    <tr>\n",
       "      <th>8</th>\n",
       "      <td>Historic District</td>\n",
       "      <td>750000</td>\n",
       "      <td>4</td>\n",
       "      <td>3</td>\n",
       "      <td>2300</td>\n",
       "      <td>Historic 4-bedroom, 3-bathroom home in the cha...</td>\n",
       "      <td>Historic District is a quaint neighborhood wit...</td>\n",
       "    </tr>\n",
       "    <tr>\n",
       "      <th>9</th>\n",
       "      <td>Riverside</td>\n",
       "      <td>900000</td>\n",
       "      <td>3</td>\n",
       "      <td>2</td>\n",
       "      <td>2100</td>\n",
       "      <td>Riverside 3-bedroom, 2-bathroom home with a pr...</td>\n",
       "      <td>Riverside offers a tranquil setting with sceni...</td>\n",
       "    </tr>\n",
       "    <tr>\n",
       "      <th>10</th>\n",
       "      <td>Garden District</td>\n",
       "      <td>850000</td>\n",
       "      <td>4</td>\n",
       "      <td>3</td>\n",
       "      <td>2400</td>\n",
       "      <td>Spacious 4-bedroom, 3-bathroom home in the lus...</td>\n",
       "      <td>Garden District is known for its tree-lined st...</td>\n",
       "    </tr>\n",
       "    <tr>\n",
       "      <th>11</th>\n",
       "      <td>Downtown Loft</td>\n",
       "      <td>700000</td>\n",
       "      <td>2</td>\n",
       "      <td>2</td>\n",
       "      <td>1800</td>\n",
       "      <td>Modern 2-bedroom, 2-bathroom loft in the heart...</td>\n",
       "      <td>Downtown is a vibrant urban neighborhood with ...</td>\n",
       "    </tr>\n",
       "    <tr>\n",
       "      <th>12</th>\n",
       "      <td>Lakefront Retreat</td>\n",
       "      <td>1200000</td>\n",
       "      <td>3</td>\n",
       "      <td>3</td>\n",
       "      <td>2600</td>\n",
       "      <td>Tranquil 3-bedroom, 3-bathroom lakefront retre...</td>\n",
       "      <td>Lakefront is a serene neighborhood with scenic...</td>\n",
       "    </tr>\n",
       "  </tbody>\n",
       "</table>\n",
       "</div>"
      ],
      "text/plain": [
       "         neighborhood    price  bedrooms  bathrooms  house_size  \\\n",
       "0          Green Oaks   800000         3          2        2000   \n",
       "1           Sunnyvale   950000         4          3        2500   \n",
       "2            Lakeview   700000         2          1        1500   \n",
       "3            Downtown  1200000         5          4        3500   \n",
       "4            Hillside   850000         3          2        2200   \n",
       "5          Waterfront  1500000         4          3        2800   \n",
       "6       Mountain View  1000000         3          2        2000   \n",
       "7          Oceanfront  2000000         5          4        4000   \n",
       "8   Historic District   750000         4          3        2300   \n",
       "9           Riverside   900000         3          2        2100   \n",
       "10    Garden District   850000         4          3        2400   \n",
       "11      Downtown Loft   700000         2          2        1800   \n",
       "12  Lakefront Retreat  1200000         3          3        2600   \n",
       "\n",
       "                                          description  \\\n",
       "0   Welcome to this eco-friendly oasis nestled in ...   \n",
       "1   Beautiful 4-bedroom, 3-bathroom home in the de...   \n",
       "2   Cozy 2-bedroom, 1-bathroom home in the peacefu...   \n",
       "3   Luxurious 5-bedroom, 4-bathroom home in the he...   \n",
       "4   Inviting 3-bedroom, 2-bathroom home in the sce...   \n",
       "5   Stunning 4-bedroom, 3-bathroom waterfront home...   \n",
       "6   Charming 3-bedroom, 2-bathroom home in the sou...   \n",
       "7   Magnificent 5-bedroom, 4-bathroom oceanfront e...   \n",
       "8   Historic 4-bedroom, 3-bathroom home in the cha...   \n",
       "9   Riverside 3-bedroom, 2-bathroom home with a pr...   \n",
       "10  Spacious 4-bedroom, 3-bathroom home in the lus...   \n",
       "11  Modern 2-bedroom, 2-bathroom loft in the heart...   \n",
       "12  Tranquil 3-bedroom, 3-bathroom lakefront retre...   \n",
       "\n",
       "                             neighborhood_description  \n",
       "0   Green Oaks is a close-knit, environmentally-co...  \n",
       "1   Sunnyvale is known for its top-rated schools, ...  \n",
       "2   Lakeview offers a tranquil setting with scenic...  \n",
       "3   Downtown is a bustling urban neighborhood with...  \n",
       "4   Hillside offers stunning views of the mountain...  \n",
       "5   Waterfront is a prestigious neighborhood known...  \n",
       "6   Mountain View is a picturesque neighborhood wi...  \n",
       "7   Oceanfront is a prestigious neighborhood known...  \n",
       "8   Historic District is a quaint neighborhood wit...  \n",
       "9   Riverside offers a tranquil setting with sceni...  \n",
       "10  Garden District is known for its tree-lined st...  \n",
       "11  Downtown is a vibrant urban neighborhood with ...  \n",
       "12  Lakefront is a serene neighborhood with scenic...  "
      ]
     },
     "execution_count": 11,
     "metadata": {},
     "output_type": "execute_result"
    }
   ],
   "source": [
    "df"
   ]
  },
  {
   "cell_type": "code",
   "execution_count": 12,
   "id": "5e1de163",
   "metadata": {},
   "outputs": [],
   "source": [
    "df.to_csv('listings.csv',index_label = 'id')"
   ]
  },
  {
   "cell_type": "markdown",
   "id": "830c493e",
   "metadata": {},
   "source": [
    "# Step 3: Storing Listings in a Vector Database"
   ]
  },
  {
   "cell_type": "markdown",
   "id": "ac2c78f4",
   "metadata": {},
   "source": [
    "Vector Database Setup: Initialize and configure ChromaDB or a similar vector database to store real estate listings.\n",
    "\n",
    "Generating and Storing Embeddings: Convert the LLM-generated listings into suitable embeddings that capture the semantic content of each listing, and store these embeddings in the vector database."
   ]
  },
  {
   "cell_type": "code",
   "execution_count": 22,
   "id": "75197f35",
   "metadata": {},
   "outputs": [],
   "source": [
    "from langchain.document_loaders.csv_loader import CSVLoader\n",
    "from langchain.embeddings.openai import OpenAIEmbeddings\n",
    "from langchain.llms import OpenAI\n",
    "from langchain.text_splitter import CharacterTextSplitter\n",
    "from langchain.vectorstores import Chroma"
   ]
  },
  {
   "cell_type": "code",
   "execution_count": 17,
   "id": "61ead7ec",
   "metadata": {},
   "outputs": [],
   "source": [
    "CHROMA_PATH = \"chroma\""
   ]
  },
  {
   "cell_type": "code",
   "execution_count": 18,
   "id": "b49248f9",
   "metadata": {},
   "outputs": [
    {
     "data": {
      "text/html": [
       "<div>\n",
       "<style scoped>\n",
       "    .dataframe tbody tr th:only-of-type {\n",
       "        vertical-align: middle;\n",
       "    }\n",
       "\n",
       "    .dataframe tbody tr th {\n",
       "        vertical-align: top;\n",
       "    }\n",
       "\n",
       "    .dataframe thead th {\n",
       "        text-align: right;\n",
       "    }\n",
       "</style>\n",
       "<table border=\"1\" class=\"dataframe\">\n",
       "  <thead>\n",
       "    <tr style=\"text-align: right;\">\n",
       "      <th></th>\n",
       "      <th>id</th>\n",
       "      <th>neighborhood</th>\n",
       "      <th>price</th>\n",
       "      <th>bedrooms</th>\n",
       "      <th>bathrooms</th>\n",
       "      <th>house_size</th>\n",
       "      <th>description</th>\n",
       "      <th>neighborhood_description</th>\n",
       "    </tr>\n",
       "  </thead>\n",
       "  <tbody>\n",
       "    <tr>\n",
       "      <th>0</th>\n",
       "      <td>0</td>\n",
       "      <td>Green Oaks</td>\n",
       "      <td>800000</td>\n",
       "      <td>3</td>\n",
       "      <td>2</td>\n",
       "      <td>2000</td>\n",
       "      <td>Welcome to this eco-friendly oasis nestled in ...</td>\n",
       "      <td>Green Oaks is a close-knit, environmentally-co...</td>\n",
       "    </tr>\n",
       "    <tr>\n",
       "      <th>1</th>\n",
       "      <td>1</td>\n",
       "      <td>Sunnyvale</td>\n",
       "      <td>950000</td>\n",
       "      <td>4</td>\n",
       "      <td>3</td>\n",
       "      <td>2500</td>\n",
       "      <td>Beautiful 4-bedroom, 3-bathroom home in the de...</td>\n",
       "      <td>Sunnyvale is known for its top-rated schools, ...</td>\n",
       "    </tr>\n",
       "    <tr>\n",
       "      <th>2</th>\n",
       "      <td>2</td>\n",
       "      <td>Lakeview</td>\n",
       "      <td>700000</td>\n",
       "      <td>2</td>\n",
       "      <td>1</td>\n",
       "      <td>1500</td>\n",
       "      <td>Cozy 2-bedroom, 1-bathroom home in the peacefu...</td>\n",
       "      <td>Lakeview offers a tranquil setting with scenic...</td>\n",
       "    </tr>\n",
       "    <tr>\n",
       "      <th>3</th>\n",
       "      <td>3</td>\n",
       "      <td>Downtown</td>\n",
       "      <td>1200000</td>\n",
       "      <td>5</td>\n",
       "      <td>4</td>\n",
       "      <td>3500</td>\n",
       "      <td>Luxurious 5-bedroom, 4-bathroom home in the he...</td>\n",
       "      <td>Downtown is a bustling urban neighborhood with...</td>\n",
       "    </tr>\n",
       "    <tr>\n",
       "      <th>4</th>\n",
       "      <td>4</td>\n",
       "      <td>Hillside</td>\n",
       "      <td>850000</td>\n",
       "      <td>3</td>\n",
       "      <td>2</td>\n",
       "      <td>2200</td>\n",
       "      <td>Inviting 3-bedroom, 2-bathroom home in the sce...</td>\n",
       "      <td>Hillside offers stunning views of the mountain...</td>\n",
       "    </tr>\n",
       "    <tr>\n",
       "      <th>5</th>\n",
       "      <td>5</td>\n",
       "      <td>Waterfront</td>\n",
       "      <td>1500000</td>\n",
       "      <td>4</td>\n",
       "      <td>3</td>\n",
       "      <td>2800</td>\n",
       "      <td>Stunning 4-bedroom, 3-bathroom waterfront home...</td>\n",
       "      <td>Waterfront is a prestigious neighborhood known...</td>\n",
       "    </tr>\n",
       "    <tr>\n",
       "      <th>6</th>\n",
       "      <td>6</td>\n",
       "      <td>Mountain View</td>\n",
       "      <td>1000000</td>\n",
       "      <td>3</td>\n",
       "      <td>2</td>\n",
       "      <td>2000</td>\n",
       "      <td>Charming 3-bedroom, 2-bathroom home in the sou...</td>\n",
       "      <td>Mountain View is a picturesque neighborhood wi...</td>\n",
       "    </tr>\n",
       "    <tr>\n",
       "      <th>7</th>\n",
       "      <td>7</td>\n",
       "      <td>Oceanfront</td>\n",
       "      <td>2000000</td>\n",
       "      <td>5</td>\n",
       "      <td>4</td>\n",
       "      <td>4000</td>\n",
       "      <td>Magnificent 5-bedroom, 4-bathroom oceanfront e...</td>\n",
       "      <td>Oceanfront is a prestigious neighborhood known...</td>\n",
       "    </tr>\n",
       "    <tr>\n",
       "      <th>8</th>\n",
       "      <td>8</td>\n",
       "      <td>Historic District</td>\n",
       "      <td>750000</td>\n",
       "      <td>4</td>\n",
       "      <td>3</td>\n",
       "      <td>2300</td>\n",
       "      <td>Historic 4-bedroom, 3-bathroom home in the cha...</td>\n",
       "      <td>Historic District is a quaint neighborhood wit...</td>\n",
       "    </tr>\n",
       "    <tr>\n",
       "      <th>9</th>\n",
       "      <td>9</td>\n",
       "      <td>Riverside</td>\n",
       "      <td>900000</td>\n",
       "      <td>3</td>\n",
       "      <td>2</td>\n",
       "      <td>2100</td>\n",
       "      <td>Riverside 3-bedroom, 2-bathroom home with a pr...</td>\n",
       "      <td>Riverside offers a tranquil setting with sceni...</td>\n",
       "    </tr>\n",
       "    <tr>\n",
       "      <th>10</th>\n",
       "      <td>10</td>\n",
       "      <td>Garden District</td>\n",
       "      <td>850000</td>\n",
       "      <td>4</td>\n",
       "      <td>3</td>\n",
       "      <td>2400</td>\n",
       "      <td>Spacious 4-bedroom, 3-bathroom home in the lus...</td>\n",
       "      <td>Garden District is known for its tree-lined st...</td>\n",
       "    </tr>\n",
       "    <tr>\n",
       "      <th>11</th>\n",
       "      <td>11</td>\n",
       "      <td>Downtown Loft</td>\n",
       "      <td>700000</td>\n",
       "      <td>2</td>\n",
       "      <td>2</td>\n",
       "      <td>1800</td>\n",
       "      <td>Modern 2-bedroom, 2-bathroom loft in the heart...</td>\n",
       "      <td>Downtown is a vibrant urban neighborhood with ...</td>\n",
       "    </tr>\n",
       "    <tr>\n",
       "      <th>12</th>\n",
       "      <td>12</td>\n",
       "      <td>Lakefront Retreat</td>\n",
       "      <td>1200000</td>\n",
       "      <td>3</td>\n",
       "      <td>3</td>\n",
       "      <td>2600</td>\n",
       "      <td>Tranquil 3-bedroom, 3-bathroom lakefront retre...</td>\n",
       "      <td>Lakefront is a serene neighborhood with scenic...</td>\n",
       "    </tr>\n",
       "  </tbody>\n",
       "</table>\n",
       "</div>"
      ],
      "text/plain": [
       "    id       neighborhood    price  bedrooms  bathrooms  house_size  \\\n",
       "0    0         Green Oaks   800000         3          2        2000   \n",
       "1    1          Sunnyvale   950000         4          3        2500   \n",
       "2    2           Lakeview   700000         2          1        1500   \n",
       "3    3           Downtown  1200000         5          4        3500   \n",
       "4    4           Hillside   850000         3          2        2200   \n",
       "5    5         Waterfront  1500000         4          3        2800   \n",
       "6    6      Mountain View  1000000         3          2        2000   \n",
       "7    7         Oceanfront  2000000         5          4        4000   \n",
       "8    8  Historic District   750000         4          3        2300   \n",
       "9    9          Riverside   900000         3          2        2100   \n",
       "10  10    Garden District   850000         4          3        2400   \n",
       "11  11      Downtown Loft   700000         2          2        1800   \n",
       "12  12  Lakefront Retreat  1200000         3          3        2600   \n",
       "\n",
       "                                          description  \\\n",
       "0   Welcome to this eco-friendly oasis nestled in ...   \n",
       "1   Beautiful 4-bedroom, 3-bathroom home in the de...   \n",
       "2   Cozy 2-bedroom, 1-bathroom home in the peacefu...   \n",
       "3   Luxurious 5-bedroom, 4-bathroom home in the he...   \n",
       "4   Inviting 3-bedroom, 2-bathroom home in the sce...   \n",
       "5   Stunning 4-bedroom, 3-bathroom waterfront home...   \n",
       "6   Charming 3-bedroom, 2-bathroom home in the sou...   \n",
       "7   Magnificent 5-bedroom, 4-bathroom oceanfront e...   \n",
       "8   Historic 4-bedroom, 3-bathroom home in the cha...   \n",
       "9   Riverside 3-bedroom, 2-bathroom home with a pr...   \n",
       "10  Spacious 4-bedroom, 3-bathroom home in the lus...   \n",
       "11  Modern 2-bedroom, 2-bathroom loft in the heart...   \n",
       "12  Tranquil 3-bedroom, 3-bathroom lakefront retre...   \n",
       "\n",
       "                             neighborhood_description  \n",
       "0   Green Oaks is a close-knit, environmentally-co...  \n",
       "1   Sunnyvale is known for its top-rated schools, ...  \n",
       "2   Lakeview offers a tranquil setting with scenic...  \n",
       "3   Downtown is a bustling urban neighborhood with...  \n",
       "4   Hillside offers stunning views of the mountain...  \n",
       "5   Waterfront is a prestigious neighborhood known...  \n",
       "6   Mountain View is a picturesque neighborhood wi...  \n",
       "7   Oceanfront is a prestigious neighborhood known...  \n",
       "8   Historic District is a quaint neighborhood wit...  \n",
       "9   Riverside offers a tranquil setting with sceni...  \n",
       "10  Garden District is known for its tree-lined st...  \n",
       "11  Downtown is a vibrant urban neighborhood with ...  \n",
       "12  Lakefront is a serene neighborhood with scenic...  "
      ]
     },
     "execution_count": 18,
     "metadata": {},
     "output_type": "execute_result"
    }
   ],
   "source": [
    "df = pd.read_csv('listings.csv')\n",
    "df\n"
   ]
  },
  {
   "cell_type": "code",
   "execution_count": 20,
   "id": "8635cd2a",
   "metadata": {},
   "outputs": [],
   "source": [
    "from langchain.schema import Document\n",
    "documents = []\n",
    "for index, row in df.iterrows():\n",
    "    documents.append(Document(page_content=row['description'], metadata={'id': str(index)}))"
   ]
  },
  {
   "cell_type": "code",
   "execution_count": 28,
   "id": "cd43778f",
   "metadata": {},
   "outputs": [],
   "source": [
    "splitter = CharacterTextSplitter(chunk_size=300,chunk_overlap=100)\n",
    "split_docs = splitter.split_documents(documents)"
   ]
  },
  {
   "cell_type": "code",
   "execution_count": 29,
   "id": "99a61446",
   "metadata": {},
   "outputs": [
    {
     "name": "stdout",
     "output_type": "stream",
     "text": [
      "Split 13 documents into 13 chunks.\n"
     ]
    }
   ],
   "source": [
    "print(f\"Split {len(documents)} documents into {len(split_docs)} chunks.\")"
   ]
  },
  {
   "cell_type": "code",
   "execution_count": 31,
   "id": "7c29c633",
   "metadata": {},
   "outputs": [
    {
     "name": "stdout",
     "output_type": "stream",
     "text": [
      "page_content='Luxurious 5-bedroom, 4-bathroom home in the heart of Downtown. This elegant property features high-end finishes, a gourmet kitchen, and a rooftop terrace with city views. Live in style in this sophisticated Downtown residence.' metadata={'id': '3'}\n"
     ]
    }
   ],
   "source": [
    "print(split_docs[3])"
   ]
  },
  {
   "cell_type": "code",
   "execution_count": 32,
   "id": "6cfc24df",
   "metadata": {},
   "outputs": [
    {
     "name": "stdout",
     "output_type": "stream",
     "text": [
      "Luxurious 5-bedroom, 4-bathroom home in the heart of Downtown. This elegant property features high-end finishes, a gourmet kitchen, and a rooftop terrace with city views. Live in style in this sophisticated Downtown residence.\n",
      "{'id': '3'}\n"
     ]
    }
   ],
   "source": [
    "print(split_docs[3].page_content)\n",
    "print(split_docs[3].metadata)"
   ]
  },
  {
   "cell_type": "code",
   "execution_count": 34,
   "id": "9ac8b1f3",
   "metadata": {},
   "outputs": [
    {
     "name": "stdout",
     "output_type": "stream",
     "text": [
      "Saved split docs.\n"
     ]
    }
   ],
   "source": [
    "# Save to Chroma - backup\n",
    "import shutil\n",
    "if os.path.exists(CHROMA_PATH):\n",
    "    shutil.rmtree(CHROMA_PATH)\n",
    "\n",
    "db = Chroma.from_documents(\n",
    "    split_docs, OpenAIEmbeddings(), persist_directory=CHROMA_PATH\n",
    ")\n",
    "db.persist()\n",
    "print(f\"Saved split docs.\")"
   ]
  },
  {
   "cell_type": "markdown",
   "id": "7df4deb9",
   "metadata": {},
   "source": [
    "# Step 4: Building the User Preference Interface"
   ]
  },
  {
   "cell_type": "markdown",
   "id": "1173a353",
   "metadata": {},
   "source": [
    "Collect buyer preferences, such as the number of bedrooms, bathrooms, location, and other specific requirements from a set of questions or telling the buyer to enter their preferences in natural language\n",
    "\n",
    "Buyer Preference Parsing: Implement logic to interpret and structure these preferences for querying the vector database."
   ]
  },
  {
   "cell_type": "code",
   "execution_count": 40,
   "id": "507fd423",
   "metadata": {},
   "outputs": [],
   "source": [
    "preferences = [\n",
    "    \"A comfortable three-bedroom house with a spacious kitchen and a cozy living room.\",\n",
    "    \"A quiet neighborhood, good local schools, and convenient shopping options.\",\n",
    "    \"A backyard for gardening, a two-car garage, and a modern, energy-efficient heating system.\",\n",
    "    \"Easy access to a reliable bus line, proximity to a major highway, and bike-friendly roads.\",\n",
    "    \"A balance between suburban tranquility and access to urban amenities like restaurants and theaters.\"\n",
    "]"
   ]
  },
  {
   "cell_type": "markdown",
   "id": "d8ba24e3",
   "metadata": {},
   "source": [
    "# Step 5: Searching Based on Preferences"
   ]
  },
  {
   "cell_type": "markdown",
   "id": "696b954f",
   "metadata": {},
   "source": [
    "Semantic Search Implementation: Use the structured buyer preferences to perform a semantic search on the vector database, retrieving listings that most closely match the user's requirements.\n",
    "    \n",
    "\n",
    "Listing Retrieval Logic: Fine-tune the retrieval algorithm to ensure that the most relevant listings are selected based on the semantic closeness to the buyer’s preferences"
   ]
  },
  {
   "cell_type": "code",
   "execution_count": 37,
   "id": "d5de5be1",
   "metadata": {},
   "outputs": [],
   "source": [
    "PROMPT_TEMPLATE = \\\n",
    "\"\"\"\n",
    "Context: \n",
    "\n",
    "{context}\n",
    "\n",
    "----\n",
    "\n",
    "Provide the answer for the question: {question}\n",
    "\"\"\""
   ]
  },
  {
   "cell_type": "code",
   "execution_count": 49,
   "id": "077501b2",
   "metadata": {},
   "outputs": [],
   "source": [
    "from langchain.chat_models import ChatOpenAI\n",
    "def get_top_listings(query, PROMPT_TEMPLATE) -> list[int]:\n",
    "    embedding_function = OpenAIEmbeddings()\n",
    "    db = Chroma(persist_directory=CHROMA_PATH, embedding_function=embedding_function)\n",
    "\n",
    "    results = db.similarity_search_with_relevance_scores(query, k=5)\n",
    "    if len(results) == 0 or results[0][1] < 0.7:\n",
    "        print(f\"Unable to find matching results.\")\n",
    "    else:\n",
    "        context_text = \"\\n\\n---\\n\\n\".join([doc.page_content for doc, _score in results])\n",
    "        prompt_template = PromptTemplate.from_template(PROMPT_TEMPLATE)\n",
    "        prompt = prompt_template.format(context=context_text, question=query)\n",
    "        print(f\"Generated Prompt:\\n{prompt}\")\n",
    "        \n",
    "        model = ChatOpenAI()\n",
    "        response_text = model.predict(prompt)\n",
    "        sources = [doc.metadata.get(\"id\", None) for doc, _score in results]\n",
    "        formatted_response = f\"Response: {response_text}\\nSources: {sources}\"\n",
    "        print(formatted_response)"
   ]
  },
  {
   "cell_type": "code",
   "execution_count": 50,
   "id": "fbeacd75",
   "metadata": {},
   "outputs": [
    {
     "name": "stdout",
     "output_type": "stream",
     "text": [
      "Generated Prompt:\n",
      "\n",
      "Context: \n",
      "\n",
      "Welcome to this eco-friendly oasis nestled in the heart of Green Oaks. This charming 3-bedroom, 2-bathroom home boasts energy-efficient features such as solar panels and a well-insulated structure. Natural light floods the living spaces, highlighting the beautiful hardwood floors and eco-conscious finishes. The open-concept kitchen and dining area lead to a spacious backyard with a vegetable garden, perfect for the eco-conscious family. Embrace sustainable living without compromising on style in this Green Oaks gem.\n",
      "\n",
      "---\n",
      "\n",
      "Spacious 4-bedroom, 3-bathroom home in the lush Garden District. This beautiful property features a gourmet kitchen, formal dining room, and a landscaped backyard. Embrace the beauty of nature in this Garden District oasis.\n",
      "\n",
      "---\n",
      "\n",
      "Cozy 2-bedroom, 1-bathroom home in the peaceful neighborhood of Lakeview. This charming property features a fireplace, hardwood floors, and a private backyard. Perfect for first-time homebuyers or those looking to downsize.\n",
      "\n",
      "---\n",
      "\n",
      "Riverside 3-bedroom, 2-bathroom home with a private backyard overlooking the river. This charming property features a sunroom, hardwood floors, and a cozy fireplace. Enjoy the peaceful sounds of the river in this serene Riverside home.\n",
      "\n",
      "---\n",
      "\n",
      "Charming 3-bedroom, 2-bathroom home in the sought-after neighborhood of Mountain View. This cozy property features a spacious backyard, updated kitchen, and hardwood floors. Experience the beauty of Mountain View in this lovely home.\n",
      "\n",
      "----\n",
      "\n",
      "Provide the answer for the question: A backyard for gardening, a two-car garage, and a modern, energy-efficient heating system.\n",
      "\n",
      "Response: The eco-friendly oasis in Green Oaks would be the best fit for a backyard for gardening, a two-car garage, and a modern, energy-efficient heating system.\n",
      "Sources: ['0', '10', '2', '9', '6']\n"
     ]
    }
   ],
   "source": [
    "get_top_listings(preferences[2], PROMPT_TEMPLATE)"
   ]
  },
  {
   "cell_type": "markdown",
   "id": "a489e0d1",
   "metadata": {},
   "source": [
    "# Step 6: Personalizing Listing Descriptions"
   ]
  },
  {
   "cell_type": "markdown",
   "id": "574fe50d",
   "metadata": {},
   "source": [
    "LLM Augmentation: For each retrieved listing, use the LLM to augment the description, tailoring it to resonate with the buyer’s specific preferences. This involves subtly emphasizing aspects of the property that align with what the buyer is looking for.\n",
    "\n",
    "Maintaining Factual Integrity: Ensure that the augmentation process enhances the appeal of the listing without altering factual information."
   ]
  },
  {
   "cell_type": "code",
   "execution_count": 51,
   "id": "e6232e2a",
   "metadata": {},
   "outputs": [],
   "source": [
    "PERSONALIZED_PROMPT = \\\n",
    "\"\"\"\n",
    "Context:\n",
    "\n",
    "{context}\n",
    "\n",
    "------\n",
    "Provide a response which will not only answer for the buyer's question but also helps buyer’s specific preferences. This involves subtly emphasizing aspects of the property that align with what the buyer is looking for.\n",
    "\n",
    "Question: {question}\n",
    "\"\"\""
   ]
  },
  {
   "cell_type": "code",
   "execution_count": 52,
   "id": "0bbf4ed4",
   "metadata": {},
   "outputs": [
    {
     "name": "stdout",
     "output_type": "stream",
     "text": [
      "Generated Prompt:\n",
      "\n",
      "Context:\n",
      "\n",
      "Welcome to this eco-friendly oasis nestled in the heart of Green Oaks. This charming 3-bedroom, 2-bathroom home boasts energy-efficient features such as solar panels and a well-insulated structure. Natural light floods the living spaces, highlighting the beautiful hardwood floors and eco-conscious finishes. The open-concept kitchen and dining area lead to a spacious backyard with a vegetable garden, perfect for the eco-conscious family. Embrace sustainable living without compromising on style in this Green Oaks gem.\n",
      "\n",
      "---\n",
      "\n",
      "Spacious 4-bedroom, 3-bathroom home in the lush Garden District. This beautiful property features a gourmet kitchen, formal dining room, and a landscaped backyard. Embrace the beauty of nature in this Garden District oasis.\n",
      "\n",
      "---\n",
      "\n",
      "Cozy 2-bedroom, 1-bathroom home in the peaceful neighborhood of Lakeview. This charming property features a fireplace, hardwood floors, and a private backyard. Perfect for first-time homebuyers or those looking to downsize.\n",
      "\n",
      "---\n",
      "\n",
      "Riverside 3-bedroom, 2-bathroom home with a private backyard overlooking the river. This charming property features a sunroom, hardwood floors, and a cozy fireplace. Enjoy the peaceful sounds of the river in this serene Riverside home.\n",
      "\n",
      "---\n",
      "\n",
      "Charming 3-bedroom, 2-bathroom home in the sought-after neighborhood of Mountain View. This cozy property features a spacious backyard, updated kitchen, and hardwood floors. Experience the beauty of Mountain View in this lovely home.\n",
      "\n",
      "------\n",
      "Provide a response which will not only answer for the buyer's question but also helps buyer’s specific preferences. This involves subtly emphasizing aspects of the property that align with what the buyer is looking for.\n",
      "\n",
      "Question: A backyard for gardening, a two-car garage, and a modern, energy-efficient heating system.\n",
      "\n",
      "Response: I have the perfect property for you! Our eco-friendly oasis in Green Oaks features a spacious backyard with a vegetable garden, perfect for your gardening needs. Additionally, this home boasts a two-car garage for your convenience. With energy-efficient features such as solar panels and a well-insulated structure, you can enjoy sustainable living without compromising on modern amenities. This property aligns perfectly with your specific preferences.\n",
      "Sources: ['0', '10', '2', '9', '6']\n"
     ]
    }
   ],
   "source": [
    "get_top_listings(preferences[2], PERSONALIZED_PROMPT)"
   ]
  },
  {
   "cell_type": "markdown",
   "id": "087ec8f7",
   "metadata": {},
   "source": [
    "# Step 7: Deliverables and Testing"
   ]
  },
  {
   "cell_type": "code",
   "execution_count": 62,
   "id": "f98a5808",
   "metadata": {},
   "outputs": [],
   "source": [
    "def chat(query, PROMPT_TEMPLATE) -> list[int]:\n",
    "    embedding_function = OpenAIEmbeddings()\n",
    "    db = Chroma(persist_directory=CHROMA_PATH, embedding_function=embedding_function)\n",
    "\n",
    "    results = db.similarity_search_with_relevance_scores(query, k=5)\n",
    "    if len(results) == 0 or results[0][1] < 0.7:\n",
    "        print(f\"Unable to find matching results.\")\n",
    "    else:\n",
    "        context_text = \"\\n\\n---\\n\\n\".join([doc.page_content for doc, _score in results])\n",
    "        prompt_template = PromptTemplate.from_template(PROMPT_TEMPLATE)\n",
    "        prompt = prompt_template.format(context=context_text, question=query)\n",
    "        \n",
    "        model = ChatOpenAI()\n",
    "        response_text = model.predict(prompt)\n",
    "        print(f\"\\n\\n*Response*: {response_text}\\n---------\\n\")"
   ]
  },
  {
   "cell_type": "code",
   "execution_count": 63,
   "id": "953f87dc",
   "metadata": {},
   "outputs": [
    {
     "name": "stdout",
     "output_type": "stream",
     "text": [
      "I am a personalized real estate chat agent. Please enter your query, or type 'exit' to end the chat.\n",
      "\n",
      "*User Query*: A comfortable three-bedroom house with a spacious kitchen and a cozy living room.\n",
      "\n",
      "\n",
      "*Response*: The charming 3-bedroom, 2-bathroom home in the sought-after neighborhood of Mountain View would be perfect for you. This cozy property features an updated kitchen that is perfect for cooking and entertaining, as well as a cozy living room with hardwood floors for a warm and inviting atmosphere. Don't miss out on experiencing the beauty of Mountain View in this lovely home.\n",
      "---------\n",
      "\n",
      "*User Query*: A quiet neighborhood, good local schools, and convenient shopping options.\n",
      "\n",
      "\n",
      "*Response*: Based on your preferences for a quiet neighborhood, good local schools, and convenient shopping options, I would highly recommend the charming 3-bedroom, 2-bathroom home in the peaceful neighborhood of Lakeview. This cozy property not only offers a tranquil setting but also features hardwood floors, a fireplace, and a private backyard. Additionally, Lakeview is known for its excellent schools and proximity to convenient shopping options, making it the perfect choice for you.\n",
      "---------\n",
      "\n",
      "*User Query*: A balance between suburban tranquility and access to urban amenities like restaurants and theaters.\n",
      "\n",
      "\n",
      "*Response*: The inviting 3-bedroom, 2-bathroom home in the scenic neighborhood of Hillside could be the perfect balance for you. With its peaceful surroundings and cozy fireplace, it offers suburban tranquility. At the same time, its close proximity to restaurants and theaters in the area provides easy access to urban amenities. The wrap-around porch and vaulted ceilings add to the charm of this lovely home, making it a great option for those looking for a mix of both worlds.\n",
      "---------\n",
      "\n",
      "*User Query*: exit\n",
      "Thank you!\n"
     ]
    }
   ],
   "source": [
    "print(\"I am a personalized real estate chat agent. Please enter your query, or type 'exit' to end the chat.\\n\")\n",
    "while True:\n",
    "    user_input = input(\"*User Query*: \")\n",
    "    if user_input.lower() == \"exit\": \n",
    "        print(\"Thank you!\")\n",
    "        break\n",
    "    chat(user_input, PERSONALIZED_PROMPT)"
   ]
  }
 ],
 "metadata": {
  "kernelspec": {
   "display_name": "Python 3 (ipykernel)",
   "language": "python",
   "name": "python3"
  },
  "language_info": {
   "codemirror_mode": {
    "name": "ipython",
    "version": 3
   },
   "file_extension": ".py",
   "mimetype": "text/x-python",
   "name": "python",
   "nbconvert_exporter": "python",
   "pygments_lexer": "ipython3",
   "version": "3.10.11"
  }
 },
 "nbformat": 4,
 "nbformat_minor": 5
}
